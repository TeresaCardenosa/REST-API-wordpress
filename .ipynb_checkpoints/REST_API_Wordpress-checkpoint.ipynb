{
 "cells": [
  {
   "cell_type": "code",
   "execution_count": null,
   "metadata": {
    "id": "L57uFdEYtIVU"
   },
   "outputs": [],
   "source": [
    "# Libraries \n",
    "\n",
    "import requests\n",
    "import base64\n",
    "import pandas as pd"
   ]
  },
  {
   "cell_type": "code",
   "execution_count": null,
   "metadata": {
    "id": "ZmYXhjAgtM1n"
   },
   "outputs": [],
   "source": [
    "# Access\n",
    "\n",
    "wordpress_user = 'username' \n",
    "wordpress_password = 'password' #Generated application password (temporary)\n",
    "wordpress_credentials = f\"{wordpress_user}:{wordpress_password}\"\n",
    "wordpress_token = base64.b64encode(wordpress_credentials.encode())\n",
    "wordpress_header = {'Authorization': 'Basic ' + wordpress_token.decode('utf-8')}"
   ]
  },
  {
   "cell_type": "code",
   "execution_count": null,
   "metadata": {
    "id": "_iDynRGIuXbj"
   },
   "outputs": [],
   "source": [
    "# Read content with code: It's the same if you visit https://yourdomain.com/wp-json/wp/v2/posts\n",
    "\n",
    "def read_wordpress_posts():\n",
    " api_url = 'https://yourdomain.com/wp-json/wp/v2/posts'\n",
    " response = requests.get(api_url)\n",
    " response_json = response.json()\n",
    " print(response_json)"
   ]
  },
  {
   "cell_type": "code",
   "execution_count": null,
   "metadata": {
    "id": "vkuURQ3ovWDc"
   },
   "outputs": [],
   "source": [
    "# Get the total number of post pages\n",
    "\n",
    "def get_total_pagecount():\n",
    " api_url = 'https://yourdomain.com/wp-json/wp/v2/posts?page=1&per_page=100'\n",
    " response = requests.get(api_url)\n",
    " pages_count = response.headers['X-WP-TotalPages']\n",
    " return int(pages_count)"
   ]
  },
  {
   "cell_type": "code",
   "execution_count": null,
   "metadata": {},
   "outputs": [],
   "source": [
    "# Get all the content using a loop that iterates through the pages\n",
    "\n",
    "def read_wordpress_post_with_pagination():\n",
    " total_pages = get_total_pagecount()\n",
    " current_page = 1\n",
    " all_page_items_json = []\n",
    " while current_page <= total_pages:\n",
    "     api_url = f\"https://yourdomain.com/wp-json/wp/v2/posts?page={current_page}&per_page=100\"\n",
    "     page_items = requests.get(api_url)\n",
    "     page_items_json = page_items.json()\n",
    "     all_page_items_json.extend(page_items_json)\n",
    "     current_page = current_page + 1\n",
    " return all_page_items_json"
   ]
  },
  {
   "cell_type": "code",
   "execution_count": null,
   "metadata": {},
   "outputs": [],
   "source": [
    "post_data = read_wordpress_post_with_pagination()"
   ]
  },
  {
   "cell_type": "code",
   "execution_count": null,
   "metadata": {
    "colab": {
     "base_uri": "https://localhost:8080/"
    },
    "id": "mhkGFIgbvOSj",
    "outputId": "575d56d6-ad73-437f-a34d-25eb205af2e8"
   },
   "outputs": [],
   "source": [
    "# You already have the content! Let's play! A list where each item is a dictionary...\n",
    "\n",
    "# type(post_data)\n",
    "# len(post_data)\n",
    "# post_data[0]\n",
    "# post_data[0].keys()"
   ]
  },
  {
   "cell_type": "code",
   "execution_count": null,
   "metadata": {
    "id": "2VEbhzNNzATw"
   },
   "outputs": [],
   "source": [
    "# In this case, we need the keys ID, date, link, title, categories, and tags\n",
    "\n",
    "filtered_posts = []\n",
    "\n",
    "for post in post_data:\n",
    "    filtered_post = {\n",
    "        'id': post.get('id'),\n",
    "        'date': post.get('date'),\n",
    "        'link': post.get('link'),\n",
    "        'title': post.get('title', {}).get('rendered', ''),\n",
    "        'categories': post.get('categories', []),\n",
    "        'tags': post.get('tags', [])\n",
    "    }\n",
    "    filtered_posts.append(filtered_post)\n"
   ]
  },
  {
   "cell_type": "code",
   "execution_count": null,
   "metadata": {
    "id": "3AhkjXco4iZn"
   },
   "outputs": [],
   "source": [
    "# Get the name of the categories and tags.\n",
    "\n",
    "def get_categories_mapping():\n",
    "    url = \"https://yourdomain.com/wp-json/wp/v2/categories?per_page=100\"\n",
    "    response = requests.get(url)\n",
    "    categories = response.json()\n",
    "    return {cat['id']: cat['name'] for cat in categories}\n",
    "\n",
    "def get_tags_mapping():\n",
    "    url = \"https://yourdomain.com/wp-json/wp/v2/tags?per_page=100\"\n",
    "    response = requests.get(url)\n",
    "    tags = response.json()\n",
    "    return {tag['id']: tag['name'] for tag in tags}\n",
    "\n",
    "categories_mapping = get_categories_mapping()\n",
    "tags_mapping = get_tags_mapping()"
   ]
  },
  {
   "cell_type": "code",
   "execution_count": null,
   "metadata": {},
   "outputs": [],
   "source": [
    "# The function is limited to 100 entries per pagination. We check if any of these reach that 100 to expand it:\n",
    "\n",
    "print(len(categories_mapping))\n",
    "print(len(tags_mapping))"
   ]
  },
  {
   "cell_type": "code",
   "execution_count": null,
   "metadata": {
    "id": "r0GJcKxi7Iy3"
   },
   "outputs": [],
   "source": [
    "# Example: We need to expand pagination in tags\n",
    "\n",
    "def get_all_tags():\n",
    "    all_tags = []\n",
    "    current_page = 1\n",
    "    while True:\n",
    "        url = f'https://yourdomain.com/wp-json/wp/v2/tags?page={current_page}&per_page=100'\n",
    "        response = requests.get(url)\n",
    "        if response.status_code != 200:\n",
    "            break\n",
    "        data = response.json()\n",
    "        if not data:\n",
    "            break\n",
    "        all_tags.extend(data)\n",
    "        current_page += 1\n",
    "    return all_tags\n",
    "\n",
    "all_tags_mapping = get_all_tags()\n",
    "\n",
    "all_tags_mapping = {tag['id']: tag['name'] for tag in tags_data}"
   ]
  },
  {
   "cell_type": "code",
   "execution_count": null,
   "metadata": {
    "id": "Ge0u44ia5CHX"
   },
   "outputs": [],
   "source": [
    "# Replace the IDs with the names in the already extracted list\n",
    "\n",
    "filtered_posts_def = []\n",
    "\n",
    "for post in filtered_posts:\n",
    "    cat_ids = post.get('categories', [])\n",
    "    tag_ids = post.get('tags', [])\n",
    "\n",
    "    categories = [categories_mapping.get(cat_id, f\"ID:{cat_id}\") for cat_id in cat_ids]\n",
    "    tags = [all_tags_mapping.get(tag_id, f\"ID:{tag_id}\") for tag_id in tag_ids]\n",
    "\n",
    "    filtered_posts_def.append({\n",
    "        'id': post['id'],\n",
    "        'date': post['date'],\n",
    "        'link': post['link'],\n",
    "        'title': post['title'],\n",
    "        'categories': categories,\n",
    "        'tags': tags\n",
    "    })\n"
   ]
  },
  {
   "cell_type": "code",
   "execution_count": null,
   "metadata": {
    "id": "w32CC4ue7jcO"
   },
   "outputs": [],
   "source": [
    "# Done! Let's convert to DataFrame\n",
    "\n",
    "df = pd.DataFrame(filtered_posts_def)"
   ]
  },
  {
   "cell_type": "code",
   "execution_count": null,
   "metadata": {
    "id": "7KpoFECq9-FW"
   },
   "outputs": [],
   "source": [
    "# Tags and categories are lists. For readability, we converted them to text strings.\n",
    "\n",
    "df['tags'] = df['tags'].apply(lambda x: ', '.join(x) if isinstance(x, list) else '')\n",
    "df['categories'] = df['categories'].apply(lambda x: ', '.join(x) if isinstance(x, list) else '')"
   ]
  },
  {
   "cell_type": "code",
   "execution_count": null,
   "metadata": {
    "colab": {
     "base_uri": "https://localhost:8080/",
     "height": 206
    },
    "id": "Gv6KLfpj-AjW",
    "outputId": "7ba82179-c7a5-44c1-e9cd-a7416e0b6981"
   },
   "outputs": [],
   "source": [
    "# Challenge achieved\n",
    "\n",
    "df.head()"
   ]
  }
 ],
 "metadata": {
  "colab": {
   "provenance": []
  },
  "kernelspec": {
   "display_name": "Python 3 (ipykernel)",
   "language": "python",
   "name": "python3"
  },
  "language_info": {
   "codemirror_mode": {
    "name": "ipython",
    "version": 3
   },
   "file_extension": ".py",
   "mimetype": "text/x-python",
   "name": "python",
   "nbconvert_exporter": "python",
   "pygments_lexer": "ipython3",
   "version": "3.8.20"
  }
 },
 "nbformat": 4,
 "nbformat_minor": 4
}
